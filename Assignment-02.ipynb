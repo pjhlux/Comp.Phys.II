{
 "cells": [
  {
   "cell_type": "markdown",
   "metadata": {},
   "source": [
    "# 과제2"
   ]
  },
  {
   "cell_type": "markdown",
   "metadata": {},
   "source": [
    "### 2020년 2학기 전산물리학2\n",
    "### 충북대학교 물리학과 박준홍"
   ]
  },
  {
   "cell_type": "markdown",
   "metadata": {},
   "source": [
    "# 1. 구구단 함수\n",
    "#### 구구단 몇 단을 출력할 것인지를 입력받아 구구단을 출력하는 함수를 작성하여라."
   ]
  },
  {
   "cell_type": "code",
   "execution_count": 182,
   "metadata": {},
   "outputs": [],
   "source": [
    "# 한 수를 입력 받아서 \n",
    "# 입력받은수에1~9를 곱한 Table을 나열하는 함수\n",
    "def MulTable(n):\n",
    "    result = []\n",
    "    for i in range(1,10):\n",
    "        result.append(n*i)\n",
    "    return result"
   ]
  },
  {
   "cell_type": "markdown",
   "metadata": {},
   "source": [
    "#### 구구단 함수 실행"
   ]
  },
  {
   "cell_type": "code",
   "execution_count": 183,
   "metadata": {},
   "outputs": [
    {
     "data": {
      "text/plain": [
       "[8, 16, 24, 32, 40, 48, 56, 64, 72]"
      ]
     },
     "execution_count": 183,
     "metadata": {},
     "output_type": "execute_result"
    }
   ],
   "source": [
    "MulTable(8)"
   ]
  },
  {
   "cell_type": "code",
   "execution_count": 184,
   "metadata": {
    "scrolled": true
   },
   "outputs": [
    {
     "name": "stdout",
     "output_type": "stream",
     "text": [
      "[1, 2, 3, 4, 5, 6, 7, 8, 9]\n",
      "[2, 4, 6, 8, 10, 12, 14, 16, 18]\n",
      "[3, 6, 9, 12, 15, 18, 21, 24, 27]\n",
      "[4, 8, 12, 16, 20, 24, 28, 32, 36]\n",
      "[5, 10, 15, 20, 25, 30, 35, 40, 45]\n",
      "[6, 12, 18, 24, 30, 36, 42, 48, 54]\n",
      "[7, 14, 21, 28, 35, 42, 49, 56, 63]\n",
      "[8, 16, 24, 32, 40, 48, 56, 64, 72]\n",
      "[9, 18, 27, 36, 45, 54, 63, 72, 81]\n"
     ]
    }
   ],
   "source": [
    "for i in range(1,10):\n",
    "    print(MulTable(i))"
   ]
  },
  {
   "cell_type": "markdown",
   "metadata": {},
   "source": [
    "# 2. 홀수/짝수 판별\n",
    "#### 숫자를 하나 입력받아 홀수인지 짝수인지 판별하는 함수를 작성하여라.\n",
    "#### 다음의 정보가 도움이 될 수 있다.\n",
    "#### \"%\"는 나머지를 출력하는 연산이다."
   ]
  },
  {
   "cell_type": "code",
   "execution_count": 185,
   "metadata": {},
   "outputs": [],
   "source": [
    "# 어떤 수 n을 입력 받아서 n이 홀수인지 짝수인지 구별하는 함수\n",
    "# n이 홀수면 1, 짝수면 0을 반환한다.\n",
    "def is_odd(n):\n",
    "    if n % 2 == 0:\n",
    "        return 0\n",
    "    else:\n",
    "        return 1\n",
    "    \n",
    "# 또는 이런 함수도 만들 수 있다.    \n",
    "def is_odd_even(n):\n",
    "    if n % 2 == 0:\n",
    "        return \"even\"\n",
    "    else:\n",
    "        return \"odd\""
   ]
  },
  {
   "cell_type": "markdown",
   "metadata": {},
   "source": [
    "#### is_odd(), is_odd_even() 함수 실행"
   ]
  },
  {
   "cell_type": "code",
   "execution_count": 186,
   "metadata": {},
   "outputs": [
    {
     "data": {
      "text/plain": [
       "(0, 1)"
      ]
     },
     "execution_count": 186,
     "metadata": {},
     "output_type": "execute_result"
    }
   ],
   "source": [
    "is_odd(2), is_odd(5)"
   ]
  },
  {
   "cell_type": "code",
   "execution_count": 187,
   "metadata": {},
   "outputs": [
    {
     "data": {
      "text/plain": [
       "('even', 'odd')"
      ]
     },
     "execution_count": 187,
     "metadata": {},
     "output_type": "execute_result"
    }
   ],
   "source": [
    "is_odd_even(2), is_odd_even(5)"
   ]
  },
  {
   "cell_type": "markdown",
   "metadata": {},
   "source": [
    "# 3. 평균\n",
    "#### 숫자로 이루어져 있는 리스트를 입력받아 숫자들의 평균을 계산하는 함수를 작성하여라.\n",
    "#### 다음의 정보가 도움이 될 수 있다.\n",
    "#### \"len()\"은 리스트의 길이를 출력하는 함수이다."
   ]
  },
  {
   "cell_type": "code",
   "execution_count": 188,
   "metadata": {},
   "outputs": [],
   "source": [
    "# 숫자로 이루어져 있는 리스트 n을 입력받아 숫자들의 평균을 계산하는 함수\n",
    "def ListMean(n):\n",
    "    if isinstance(n, list):                   # 숫자로 이루어진 List인지  판별\n",
    "        sum = 0\n",
    "        length = len(n)\n",
    "        for i in range(length):               # 0 ~ 리스트의 길이까지 반복\n",
    "            if isinstance(n[i], int)==False:  # n[i] 가 int 인지 검사\n",
    "                return \"Invalid Element\"     # 리스트 요소 n[i]가 숫자가 아님\n",
    "            else:\n",
    "                sum += n[i]\n",
    "        return sum / length\n",
    "    else:\n",
    "        return \"Invalid Element\"              # n이 리스트가 아님"
   ]
  },
  {
   "cell_type": "markdown",
   "metadata": {},
   "source": [
    "#### ListMean() 함수 실행"
   ]
  },
  {
   "cell_type": "code",
   "execution_count": 189,
   "metadata": {},
   "outputs": [
    {
     "data": {
      "text/plain": [
       "(5.0, 2.0, 'Invalid Element')"
      ]
     },
     "execution_count": 189,
     "metadata": {},
     "output_type": "execute_result"
    }
   ],
   "source": [
    "a = [0,1,2,3,4,5,6,7,8,9,10]\n",
    "ListMean(a), ListMean([1,2,3]), ListMean(2)"
   ]
  },
  {
   "cell_type": "code",
   "execution_count": 190,
   "metadata": {},
   "outputs": [
    {
     "data": {
      "text/plain": [
       "'Invalid Element'"
      ]
     },
     "execution_count": 190,
     "metadata": {},
     "output_type": "execute_result"
    }
   ],
   "source": [
    "b = [0,1,2,3,4,5,6,7,8,9,'ten']\n",
    "ListMean(b)"
   ]
  },
  {
   "cell_type": "markdown",
   "metadata": {},
   "source": [
    "# 감사합니다."
   ]
  }
 ],
 "metadata": {
  "kernelspec": {
   "display_name": "Python 3",
   "language": "python",
   "name": "python3"
  },
  "language_info": {
   "codemirror_mode": {
    "name": "ipython",
    "version": 3
   },
   "file_extension": ".py",
   "mimetype": "text/x-python",
   "name": "python",
   "nbconvert_exporter": "python",
   "pygments_lexer": "ipython3",
   "version": "3.7.6"
  }
 },
 "nbformat": 4,
 "nbformat_minor": 4
}
