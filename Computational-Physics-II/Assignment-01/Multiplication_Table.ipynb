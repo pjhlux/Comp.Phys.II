{
 "cells": [
  {
   "cell_type": "markdown",
   "metadata": {},
   "source": [
    "# 2020 2학기\n",
    "# 충북대학교 전산물리학2 첫번째 과제"
   ]
  },
  {
   "cell_type": "code",
   "execution_count": 52,
   "metadata": {},
   "outputs": [
    {
     "name": "stdout",
     "output_type": "stream",
     "text": [
      "구구단!\t1단 ~ 9단!\n",
      "\n",
      "\n",
      "1단 : 1 2 3 4 5 6 7 8 9 \n",
      "2단 : 2 4 6 8 10 12 14 16 18 \n",
      "3단 : 3 6 9 12 15 18 21 24 27 \n",
      "4단 : 4 8 12 16 20 24 28 32 36 \n",
      "5단 : 5 10 15 20 25 30 35 40 45 \n",
      "6단 : 6 12 18 24 30 36 42 48 54 \n",
      "7단 : 7 14 21 28 35 42 49 56 63 \n",
      "8단 : 8 16 24 32 40 48 56 64 72 \n",
      "9단 : 9 18 27 36 45 54 63 72 81 \n"
     ]
    }
   ],
   "source": [
    "# 2020.09.08 화요일\n",
    "# 충북대학교 전산물리학2 첫번째 과제\n",
    "# 박준홍 2015017048 충북대학교 물리학과\n",
    "\n",
    "#############################################\n",
    "# 구구단 출력\n",
    "print('구구단!\\t1단 ~ 9단!\\n\\n')\n",
    "\n",
    "for A in range(1, 10):\n",
    "    print(\"{0}단 : \".format(A), end=\"\")\n",
    "    for B in range(1, 10):\n",
    "        print(A*B, end=\" \")\n",
    "    print('')\n",
    "\n",
    "\n"
   ]
  },
  {
   "cell_type": "code",
   "execution_count": null,
   "metadata": {},
   "outputs": [],
   "source": []
  }
 ],
 "metadata": {
  "kernelspec": {
   "display_name": "Python 3",
   "language": "python",
   "name": "python3"
  },
  "language_info": {
   "codemirror_mode": {
    "name": "ipython",
    "version": 3
   },
   "file_extension": ".py",
   "mimetype": "text/x-python",
   "name": "python",
   "nbconvert_exporter": "python",
   "pygments_lexer": "ipython3",
   "version": "3.7.6"
  }
 },
 "nbformat": 4,
 "nbformat_minor": 4
}
